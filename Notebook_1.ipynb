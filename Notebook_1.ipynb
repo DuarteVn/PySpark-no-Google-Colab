{
  "nbformat": 4,
  "nbformat_minor": 0,
  "metadata": {
    "colab": {
      "provenance": [],
      "mount_file_id": "1TFBdNUD7e8Cax2UUen7htNWr7oRgTcc1",
      "authorship_tag": "ABX9TyOzDCLMyz5bTJNd6Z9tcfNh",
      "include_colab_link": true
    },
    "kernelspec": {
      "name": "python3",
      "display_name": "Python 3"
    },
    "language_info": {
      "name": "python"
    }
  },
  "cells": [
    {
      "cell_type": "markdown",
      "metadata": {
        "id": "view-in-github",
        "colab_type": "text"
      },
      "source": [
        "<a href=\"https://colab.research.google.com/github/DuarteVn/PySpark-no-Google-Colab/blob/main/Notebook_1.ipynb\" target=\"_parent\"><img src=\"https://colab.research.google.com/assets/colab-badge.svg\" alt=\"Open In Colab\"/></a>"
      ]
    },
    {
      "cell_type": "markdown",
      "source": [
        "# Etapa 1: Configurar PySpark\n",
        "\n",
        "\n"
      ],
      "metadata": {
        "id": "E_UELDgca7_U"
      }
    },
    {
      "cell_type": "code",
      "execution_count": 1,
      "metadata": {
        "colab": {
          "base_uri": "https://localhost:8080/"
        },
        "id": "7m5aZJ8oY11O",
        "outputId": "97bb37ba-4fe2-4360-85d7-bc2b6f6826ac"
      },
      "outputs": [
        {
          "output_type": "stream",
          "name": "stdout",
          "text": [
            "Mounted at /content/drive\n"
          ]
        }
      ],
      "source": [
        "from google.colab import drive\n",
        "drive.mount('/content/drive')"
      ]
    },
    {
      "cell_type": "code",
      "source": [
        "# Instalar PySpark\n",
        "!pip install pyspark"
      ],
      "metadata": {
        "colab": {
          "base_uri": "https://localhost:8080/"
        },
        "id": "R8g4vIZxbC_r",
        "outputId": "8012dfd7-18ab-4128-899d-a6a6f12a9097"
      },
      "execution_count": 2,
      "outputs": [
        {
          "output_type": "stream",
          "name": "stdout",
          "text": [
            "Requirement already satisfied: pyspark in /usr/local/lib/python3.11/dist-packages (3.5.1)\n",
            "Requirement already satisfied: py4j==0.10.9.7 in /usr/local/lib/python3.11/dist-packages (from pyspark) (0.10.9.7)\n"
          ]
        }
      ]
    },
    {
      "cell_type": "code",
      "source": [
        "from pyspark.sql import SparkSession\n",
        "from pyspark.sql.functions import col, upper"
      ],
      "metadata": {
        "id": "AVteCy3obUMp"
      },
      "execution_count": 4,
      "outputs": []
    },
    {
      "cell_type": "code",
      "source": [
        "# Iniciar a sessão do Spark\n",
        "spark = SparkSession.builder.appName(\"Notebook1_Notafiscal\").getOrCreate()\n"
      ],
      "metadata": {
        "id": "MEkYnJzccfjh"
      },
      "execution_count": 16,
      "outputs": []
    },
    {
      "cell_type": "markdown",
      "source": [
        "# Etapa 2: Importar base de dados"
      ],
      "metadata": {
        "id": "-MEMbw54cnge"
      }
    },
    {
      "cell_type": "code",
      "source": [
        "df = spark.read.csv(\"/content/drive/MyDrive/Colab Notebooks/Excel/notafiscal.csv\", header=True, inferSchema=True, sep=',')\n",
        "df.printSchema()\n",
        "df.show(5)\n"
      ],
      "metadata": {
        "colab": {
          "base_uri": "https://localhost:8080/"
        },
        "id": "LIln1PMydJdo",
        "outputId": "dbf9a9b2-fc85-423f-a2bc-625481dbaec9"
      },
      "execution_count": 19,
      "outputs": [
        {
          "output_type": "stream",
          "name": "stdout",
          "text": [
            "root\n",
            " |-- id_venda: integer (nullable = true)\n",
            " |-- cod_cliente: integer (nullable = true)\n",
            " |-- nom_cliente: string (nullable = true)\n",
            " |-- cod_vendedor: integer (nullable = true)\n",
            " |-- nom_vendedor: string (nullable = true)\n",
            " |-- cod_cidade: integer (nullable = true)\n",
            " |-- nom_cidade: string (nullable = true)\n",
            " |-- cod_produto: integer (nullable = true)\n",
            " |-- Nom_produto: string (nullable = true)\n",
            " |-- cod_marca: integer (nullable = true)\n",
            " |-- Nom_marca: string (nullable = true)\n",
            " |-- cod_departamento: integer (nullable = true)\n",
            " |-- nom_departamento: string (nullable = true)\n",
            " |-- cod_gerencia: integer (nullable = true)\n",
            " |-- nom_gerencia: string (nullable = true)\n",
            " |-- dtc_venda: date (nullable = true)\n",
            " |-- qtd_venda: integer (nullable = true)\n",
            " |-- val_venda: double (nullable = true)\n",
            " |-- num_nota: integer (nullable = true)\n",
            "\n",
            "+--------+-----------+---------------+------------+---------------+----------+-----------+-----------+-----------+---------+-------------+----------------+----------------+------------+-------------------+----------+---------+---------+--------+\n",
            "|id_venda|cod_cliente|    nom_cliente|cod_vendedor|   nom_vendedor|cod_cidade| nom_cidade|cod_produto|Nom_produto|cod_marca|    Nom_marca|cod_departamento|nom_departamento|cod_gerencia|       nom_gerencia| dtc_venda|qtd_venda|val_venda|num_nota|\n",
            "+--------+-----------+---------------+------------+---------------+----------+-----------+-----------+-----------+---------+-------------+----------------+----------------+------------+-------------------+----------+---------+---------+--------+\n",
            "|       1|          6|Reginaldo Rossi|           5|    Maria Braga|         1|   Salvador|          4|    Monitor|        4|          IBM|               1|     Informática|           4|   Casa e Decoração|2021-05-10|        1|   1300.0|    1033|\n",
            "|       2|          5|  Edson Arantes|           3|Issac Palmeiras|         1|   Salvador|         10|   Papel A4|        8|FABER CASTELL|               3|       Papelaria|           3|  Eletro Eletrônico|2023-06-22|        1|     2.15|     812|\n",
            "|       3|          3|   Renato Russo|           5|    Maria Braga|         4|      Bagdá|         11|    Caneta |        8|FABER CASTELL|               3|       Papelaria|           1|         Tecnologia|2022-11-23|        2|      0.5|     447|\n",
            "|       4|          5|  Edson Arantes|           1|  Claudio Silva|         3|       Roma|         19|      Fogão|       13|     BRASTEMP|               6| Eletrodomestico|           2|papelaria/cosmético|2022-02-24|        1|   1500.0|     509|\n",
            "|       5|          6|Reginaldo Rossi|           9|   Diego Santos|         2|Nova Iorque|         16|    Perfume|       11|      PHILIPS|               4|       cosmético|           4|   Casa e Decoração|2023-04-27|        1|    135.0|    1337|\n",
            "+--------+-----------+---------------+------------+---------------+----------+-----------+-----------+-----------+---------+-------------+----------------+----------------+------------+-------------------+----------+---------+---------+--------+\n",
            "only showing top 5 rows\n",
            "\n"
          ]
        }
      ]
    },
    {
      "cell_type": "markdown",
      "source": [
        "# Etapa 3: Criar DataFrame"
      ],
      "metadata": {
        "id": "HPCfA8VUeKKx"
      }
    },
    {
      "cell_type": "markdown",
      "source": [
        "## Etapa 3.1 Criar DataFrame CLIENTE"
      ],
      "metadata": {
        "id": "ATeinmuSeRzj"
      }
    },
    {
      "cell_type": "code",
      "source": [
        "df_cliente = df.select(\n",
        "    (col(\"cod_cliente\")).alias(\"ID_CLIENTE\"),\n",
        "    upper(col(\"nom_cliente\")).alias(\"NOME_CLIENTE\"),\n",
        "    upper(col(\"nom_cidade\")).alias(\"CIDADE_CLIENTE\")\n",
        "    ).dropDuplicates()\n",
        "\n",
        "df_cliente.show(5)"
      ],
      "metadata": {
        "colab": {
          "base_uri": "https://localhost:8080/"
        },
        "id": "qk1EjGZLe22Z",
        "outputId": "a92767ff-7abf-4496-89d9-76ead1d5a04a"
      },
      "execution_count": 9,
      "outputs": [
        {
          "output_type": "stream",
          "name": "stdout",
          "text": [
            "+----------+---------------+--------------+\n",
            "|ID_CLIENTE|   NOME_CLIENTE|CIDADE_CLIENTE|\n",
            "+----------+---------------+--------------+\n",
            "|         6|REGINALDO ROSSI|   NOVA IORQUE|\n",
            "|         1|   JOÃO DO PULO|          ROMA|\n",
            "|         2|BENITO DE PAULA|          ROMA|\n",
            "|         3|   RENATO RUSSO|          ROMA|\n",
            "|         3|   RENATO RUSSO|      SALVADOR|\n",
            "+----------+---------------+--------------+\n",
            "only showing top 5 rows\n",
            "\n"
          ]
        }
      ]
    },
    {
      "cell_type": "markdown",
      "source": [
        "## Etapa 3.2 Criar DataFrame GERENCIA\n"
      ],
      "metadata": {
        "id": "_e2uwWdYeaMU"
      }
    },
    {
      "cell_type": "code",
      "source": [
        "df_gerencia = df.select(\n",
        "    (col(\"cod_gerencia\")).alias(\"ID_GERENCIA\"),\n",
        "    upper(col(\"nom_gerencia\")).alias(\"NOME_GERENCIA\")\n",
        "    ).dropDuplicates()\n",
        "\n",
        "df_gerencia.show(5)\n"
      ],
      "metadata": {
        "colab": {
          "base_uri": "https://localhost:8080/"
        },
        "id": "hUwKrlHrjmeL",
        "outputId": "a404b324-9eaa-4773-dec9-ee0017149305"
      },
      "execution_count": 13,
      "outputs": [
        {
          "output_type": "stream",
          "name": "stdout",
          "text": [
            "+-----------+-------------------+\n",
            "|ID_GERENCIA|      NOME_GERENCIA|\n",
            "+-----------+-------------------+\n",
            "|          2|PAPELARIA/COSMÉTICO|\n",
            "|          3|  ELETRO ELETRÔNICO|\n",
            "|          1|         TECNOLOGIA|\n",
            "|          4|   CASA E DECORAÇÃO|\n",
            "+-----------+-------------------+\n",
            "\n"
          ]
        }
      ]
    },
    {
      "cell_type": "markdown",
      "source": [
        "## Etapa 3.3 Criar DataFrame DEPARTAMENTO"
      ],
      "metadata": {
        "id": "sLCsg4SHeaZU"
      }
    },
    {
      "cell_type": "code",
      "source": [
        "df_departamento = df.select(\n",
        "    (col(\"cod_departamento\")).alias(\"ID_DEPARTAMENTO\"),\n",
        "    upper(col(\"nom_departamento\")).alias(\"NOME_DEPARTAMENTO\")\n",
        "    ).dropDuplicates()\n",
        "\n",
        "df_departamento.show(5)"
      ],
      "metadata": {
        "colab": {
          "base_uri": "https://localhost:8080/"
        },
        "id": "bAeYdmjSk-Xr",
        "outputId": "93e19c28-2169-4fe2-8fe4-90cb0d58739c"
      },
      "execution_count": 14,
      "outputs": [
        {
          "output_type": "stream",
          "name": "stdout",
          "text": [
            "+---------------+-----------------+\n",
            "|ID_DEPARTAMENTO|NOME_DEPARTAMENTO|\n",
            "+---------------+-----------------+\n",
            "|              3|        PAPELARIA|\n",
            "|              6|  ELETRODOMESTICO|\n",
            "|              5|       ELETRÓNICO|\n",
            "|              1|      INFORMÁTICA|\n",
            "|              7|           MOVÉIS|\n",
            "+---------------+-----------------+\n",
            "only showing top 5 rows\n",
            "\n"
          ]
        }
      ]
    },
    {
      "cell_type": "markdown",
      "source": [
        "# Etapa 4: Transformar arquivos em CSV"
      ],
      "metadata": {
        "id": "YmX8r2s7kJQB"
      }
    },
    {
      "cell_type": "code",
      "source": [
        "df_cliente.coalesce(1).write.mode(\"overwrite\").csv(\"clientes.csv\", header=True)\n",
        "df_gerencia.coalesce(1).write.mode(\"overwrite\").csv(\"gerencia.csv\", header=True)\n",
        "df_departamento.coalesce(1).write.mode(\"overwrite\").csv(\"departamento.csv\", header=True)\n"
      ],
      "metadata": {
        "id": "aezH1rfYkO9d"
      },
      "execution_count": 15,
      "outputs": []
    },
    {
      "cell_type": "code",
      "source": [
        "!zip -r arquivos_csv.zip clientes.csv gerencia.csv departamento.csv\n",
        "from google.colab import files\n",
        "files.download(\"arquivos_csv.zip\")\n"
      ],
      "metadata": {
        "colab": {
          "base_uri": "https://localhost:8080/",
          "height": 277
        },
        "id": "B7pMtfJSl8OG",
        "outputId": "7f91957b-7413-4310-e6cd-7fe273906bae"
      },
      "execution_count": 17,
      "outputs": [
        {
          "output_type": "stream",
          "name": "stdout",
          "text": [
            "  adding: clientes.csv/ (stored 0%)\n",
            "  adding: clientes.csv/.part-00000-36132742-bc9c-4183-8342-fa26c2858e11-c000.csv.crc (stored 0%)\n",
            "  adding: clientes.csv/_SUCCESS (stored 0%)\n",
            "  adding: clientes.csv/._SUCCESS.crc (stored 0%)\n",
            "  adding: clientes.csv/part-00000-36132742-bc9c-4183-8342-fa26c2858e11-c000.csv (deflated 73%)\n",
            "  adding: gerencia.csv/ (stored 0%)\n",
            "  adding: gerencia.csv/_SUCCESS (stored 0%)\n",
            "  adding: gerencia.csv/._SUCCESS.crc (stored 0%)\n",
            "  adding: gerencia.csv/part-00000-bfbc37c2-9911-4ebe-ae69-58b9e9f5ac2a-c000.csv (deflated 12%)\n",
            "  adding: gerencia.csv/.part-00000-bfbc37c2-9911-4ebe-ae69-58b9e9f5ac2a-c000.csv.crc (stored 0%)\n",
            "  adding: departamento.csv/ (stored 0%)\n",
            "  adding: departamento.csv/.part-00000-46122180-54a3-4f49-935b-13ec16e0942d-c000.csv.crc (stored 0%)\n",
            "  adding: departamento.csv/_SUCCESS (stored 0%)\n",
            "  adding: departamento.csv/._SUCCESS.crc (stored 0%)\n",
            "  adding: departamento.csv/part-00000-46122180-54a3-4f49-935b-13ec16e0942d-c000.csv (deflated 20%)\n"
          ]
        },
        {
          "output_type": "display_data",
          "data": {
            "text/plain": [
              "<IPython.core.display.Javascript object>"
            ],
            "application/javascript": [
              "\n",
              "    async function download(id, filename, size) {\n",
              "      if (!google.colab.kernel.accessAllowed) {\n",
              "        return;\n",
              "      }\n",
              "      const div = document.createElement('div');\n",
              "      const label = document.createElement('label');\n",
              "      label.textContent = `Downloading \"${filename}\": `;\n",
              "      div.appendChild(label);\n",
              "      const progress = document.createElement('progress');\n",
              "      progress.max = size;\n",
              "      div.appendChild(progress);\n",
              "      document.body.appendChild(div);\n",
              "\n",
              "      const buffers = [];\n",
              "      let downloaded = 0;\n",
              "\n",
              "      const channel = await google.colab.kernel.comms.open(id);\n",
              "      // Send a message to notify the kernel that we're ready.\n",
              "      channel.send({})\n",
              "\n",
              "      for await (const message of channel.messages) {\n",
              "        // Send a message to notify the kernel that we're ready.\n",
              "        channel.send({})\n",
              "        if (message.buffers) {\n",
              "          for (const buffer of message.buffers) {\n",
              "            buffers.push(buffer);\n",
              "            downloaded += buffer.byteLength;\n",
              "            progress.value = downloaded;\n",
              "          }\n",
              "        }\n",
              "      }\n",
              "      const blob = new Blob(buffers, {type: 'application/binary'});\n",
              "      const a = document.createElement('a');\n",
              "      a.href = window.URL.createObjectURL(blob);\n",
              "      a.download = filename;\n",
              "      div.appendChild(a);\n",
              "      a.click();\n",
              "      div.remove();\n",
              "    }\n",
              "  "
            ]
          },
          "metadata": {}
        },
        {
          "output_type": "display_data",
          "data": {
            "text/plain": [
              "<IPython.core.display.Javascript object>"
            ],
            "application/javascript": [
              "download(\"download_7ef47f15-70a3-4f43-ac96-a8a5f7befa4f\", \"arquivos_csv.zip\", 3671)"
            ]
          },
          "metadata": {}
        }
      ]
    }
  ]
}