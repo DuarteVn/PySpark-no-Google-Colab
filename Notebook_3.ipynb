{
  "nbformat": 4,
  "nbformat_minor": 0,
  "metadata": {
    "colab": {
      "provenance": [],
      "authorship_tag": "ABX9TyPFp6fDivv/SmVepQD2b2XG",
      "include_colab_link": true
    },
    "kernelspec": {
      "name": "python3",
      "display_name": "Python 3"
    },
    "language_info": {
      "name": "python"
    }
  },
  "cells": [
    {
      "cell_type": "markdown",
      "metadata": {
        "id": "view-in-github",
        "colab_type": "text"
      },
      "source": [
        "<a href=\"https://colab.research.google.com/github/DuarteVn/PySpark-no-Google-Colab/blob/main/Notebook_3.ipynb\" target=\"_parent\"><img src=\"https://colab.research.google.com/assets/colab-badge.svg\" alt=\"Open In Colab\"/></a>"
      ]
    },
    {
      "cell_type": "markdown",
      "source": [
        "## Etapa 1: Configurar PySpark e integração com MySQL"
      ],
      "metadata": {
        "id": "3pnYWYk82XX3"
      }
    },
    {
      "cell_type": "code",
      "execution_count": 1,
      "metadata": {
        "colab": {
          "base_uri": "https://localhost:8080/"
        },
        "id": "3dx7li-q1K-2",
        "outputId": "2f67455d-52f0-480f-8a12-8239780eb180"
      },
      "outputs": [
        {
          "output_type": "stream",
          "name": "stdout",
          "text": [
            "Drive already mounted at /content/drive; to attempt to forcibly remount, call drive.mount(\"/content/drive\", force_remount=True).\n"
          ]
        }
      ],
      "source": [
        "from google.colab import drive\n",
        "drive.mount('/content/drive')\n",
        "from pyspark.sql import SparkSession\n",
        "from pyspark.sql.functions import to_date, date_format, year, month, concat_ws, sum as _sum"
      ]
    },
    {
      "cell_type": "code",
      "source": [
        "# Baixar o .jar correto do driver JDBC (MySQL Connector 8.0.33)\n",
        "!wget https://repo1.maven.org/maven2/com/mysql/mysql-connector-j/8.0.33/mysql-connector-j-8.0.33.jar\n",
        "\n",
        "# Copiar para o diretório do Spark\n",
        "!cp mysql-connector-j-8.0.33.jar /usr/local/lib/python3.*/dist-packages/pyspark/jars/"
      ],
      "metadata": {
        "colab": {
          "base_uri": "https://localhost:8080/"
        },
        "id": "REI-PGXt2hwZ",
        "outputId": "0af8f8cb-bf49-4b7e-ddd8-e31d43e54d36"
      },
      "execution_count": 2,
      "outputs": [
        {
          "output_type": "stream",
          "name": "stdout",
          "text": [
            "--2025-05-23 02:57:42--  https://repo1.maven.org/maven2/com/mysql/mysql-connector-j/8.0.33/mysql-connector-j-8.0.33.jar\n",
            "Resolving repo1.maven.org (repo1.maven.org)... 199.232.192.209, 199.232.196.209, 2a04:4e42:4c::209, ...\n",
            "Connecting to repo1.maven.org (repo1.maven.org)|199.232.192.209|:443... connected.\n",
            "HTTP request sent, awaiting response... 200 OK\n",
            "Length: 2481560 (2.4M) [application/java-archive]\n",
            "Saving to: ‘mysql-connector-j-8.0.33.jar.2’\n",
            "\n",
            "\r          mysql-con   0%[                    ]       0  --.-KB/s               \rmysql-connector-j-8 100%[===================>]   2.37M  --.-KB/s    in 0.05s   \n",
            "\n",
            "2025-05-23 02:57:42 (46.3 MB/s) - ‘mysql-connector-j-8.0.33.jar.2’ saved [2481560/2481560]\n",
            "\n"
          ]
        }
      ]
    },
    {
      "cell_type": "code",
      "source": [
        "spark = SparkSession.builder.appName(\"Notebook3_Vendas\").getOrCreate()\n",
        "\n",
        "df = spark.read.csv(\"/content/drive/MyDrive/Colab Notebooks/Excel/notafiscal.csv\", header=True, inferSchema=True, sep=',')\n",
        "df.printSchema()\n",
        "df.show(5)"
      ],
      "metadata": {
        "colab": {
          "base_uri": "https://localhost:8080/"
        },
        "id": "a0t-Qi9l3A3C",
        "outputId": "0a06195a-f923-4325-fbe7-5b94d30a35f4"
      },
      "execution_count": 3,
      "outputs": [
        {
          "output_type": "stream",
          "name": "stdout",
          "text": [
            "root\n",
            " |-- id_venda: integer (nullable = true)\n",
            " |-- cod_cliente: integer (nullable = true)\n",
            " |-- nom_cliente: string (nullable = true)\n",
            " |-- cod_vendedor: integer (nullable = true)\n",
            " |-- nom_vendedor: string (nullable = true)\n",
            " |-- cod_cidade: integer (nullable = true)\n",
            " |-- nom_cidade: string (nullable = true)\n",
            " |-- cod_produto: integer (nullable = true)\n",
            " |-- Nom_produto: string (nullable = true)\n",
            " |-- cod_marca: integer (nullable = true)\n",
            " |-- Nom_marca: string (nullable = true)\n",
            " |-- cod_departamento: integer (nullable = true)\n",
            " |-- nom_departamento: string (nullable = true)\n",
            " |-- cod_gerencia: integer (nullable = true)\n",
            " |-- nom_gerencia: string (nullable = true)\n",
            " |-- dtc_venda: date (nullable = true)\n",
            " |-- qtd_venda: integer (nullable = true)\n",
            " |-- val_venda: double (nullable = true)\n",
            " |-- num_nota: integer (nullable = true)\n",
            "\n",
            "+--------+-----------+---------------+------------+---------------+----------+-----------+-----------+-----------+---------+-------------+----------------+----------------+------------+-------------------+----------+---------+---------+--------+\n",
            "|id_venda|cod_cliente|    nom_cliente|cod_vendedor|   nom_vendedor|cod_cidade| nom_cidade|cod_produto|Nom_produto|cod_marca|    Nom_marca|cod_departamento|nom_departamento|cod_gerencia|       nom_gerencia| dtc_venda|qtd_venda|val_venda|num_nota|\n",
            "+--------+-----------+---------------+------------+---------------+----------+-----------+-----------+-----------+---------+-------------+----------------+----------------+------------+-------------------+----------+---------+---------+--------+\n",
            "|       1|          6|Reginaldo Rossi|           5|    Maria Braga|         1|   Salvador|          4|    Monitor|        4|          IBM|               1|     Informática|           4|   Casa e Decoração|2021-05-10|        1|   1300.0|    1033|\n",
            "|       2|          5|  Edson Arantes|           3|Issac Palmeiras|         1|   Salvador|         10|   Papel A4|        8|FABER CASTELL|               3|       Papelaria|           3|  Eletro Eletrônico|2023-06-22|        1|     2.15|     812|\n",
            "|       3|          3|   Renato Russo|           5|    Maria Braga|         4|      Bagdá|         11|    Caneta |        8|FABER CASTELL|               3|       Papelaria|           1|         Tecnologia|2022-11-23|        2|      0.5|     447|\n",
            "|       4|          5|  Edson Arantes|           1|  Claudio Silva|         3|       Roma|         19|      Fogão|       13|     BRASTEMP|               6| Eletrodomestico|           2|papelaria/cosmético|2022-02-24|        1|   1500.0|     509|\n",
            "|       5|          6|Reginaldo Rossi|           9|   Diego Santos|         2|Nova Iorque|         16|    Perfume|       11|      PHILIPS|               4|       cosmético|           4|   Casa e Decoração|2023-04-27|        1|    135.0|    1337|\n",
            "+--------+-----------+---------------+------------+---------------+----------+-----------+-----------+-----------+---------+-------------+----------------+----------------+------------+-------------------+----------+---------+---------+--------+\n",
            "only showing top 5 rows\n",
            "\n"
          ]
        }
      ]
    },
    {
      "cell_type": "code",
      "source": [
        "df_vendas = df.select(\n",
        "    \"id_venda\", \"cod_cliente\", \"cod_gerencia\",\"cod_produto\", \"val_venda\", \"dtc_venda\", \"num_nota\"\n",
        ").dropDuplicates()\n",
        "\n",
        "df_vendas.show(5)"
      ],
      "metadata": {
        "colab": {
          "base_uri": "https://localhost:8080/"
        },
        "id": "1bZ8icXq3SFe",
        "outputId": "2e3386c7-72b1-4a66-d1ab-2f19cc68b628"
      },
      "execution_count": 4,
      "outputs": [
        {
          "output_type": "stream",
          "name": "stdout",
          "text": [
            "+--------+-----------+------------+-----------+---------+----------+--------+\n",
            "|id_venda|cod_cliente|cod_gerencia|cod_produto|val_venda| dtc_venda|num_nota|\n",
            "+--------+-----------+------------+-----------+---------+----------+--------+\n",
            "|      23|          4|           2|         22|   1600.0|2023-04-12|     750|\n",
            "|     306|          3|           4|          1|    25.15|2022-10-13|     811|\n",
            "|     705|          6|           3|         15|     98.5|2023-08-06|     413|\n",
            "|    1117|          2|           2|         12|      5.3|2021-08-07|     355|\n",
            "|    1176|          2|           1|         12|      5.3|2022-11-14|    1396|\n",
            "+--------+-----------+------------+-----------+---------+----------+--------+\n",
            "only showing top 5 rows\n",
            "\n"
          ]
        }
      ]
    },
    {
      "cell_type": "code",
      "source": [
        "df_vendas.coalesce(1).write.mode(\"overwrite\").option(\"header\", True).csv(\"/content/vendas_csv\")\n"
      ],
      "metadata": {
        "id": "ZWG1NFnr38pz"
      },
      "execution_count": 5,
      "outputs": []
    },
    {
      "cell_type": "markdown",
      "source": [
        "# Etapa 3: Consolidar soma de vendas pos anos mes cidade e produto"
      ],
      "metadata": {
        "id": "vrHZD53x6Lvv"
      }
    },
    {
      "cell_type": "code",
      "source": [
        "df = df.withColumn(\"dtc_venda\", to_date(\"dtc_venda\"))\n",
        "df = df.withColumn(\"Ano-mês\", date_format(\"dtc_venda\", \"yyyyMM\"))\n",
        "\n",
        "df.show()"
      ],
      "metadata": {
        "colab": {
          "base_uri": "https://localhost:8080/"
        },
        "id": "rfr9aTLG6fjX",
        "outputId": "94c837d7-c5f3-478c-f2d7-6e5561d6e9e3"
      },
      "execution_count": 6,
      "outputs": [
        {
          "output_type": "stream",
          "name": "stdout",
          "text": [
            "+--------+-----------+---------------+------------+---------------+----------+-----------+-----------+----------------+---------+-------------+----------------+----------------+------------+-------------------+----------+---------+---------+--------+-------+\n",
            "|id_venda|cod_cliente|    nom_cliente|cod_vendedor|   nom_vendedor|cod_cidade| nom_cidade|cod_produto|     Nom_produto|cod_marca|    Nom_marca|cod_departamento|nom_departamento|cod_gerencia|       nom_gerencia| dtc_venda|qtd_venda|val_venda|num_nota|Ano-mês|\n",
            "+--------+-----------+---------------+------------+---------------+----------+-----------+-----------+----------------+---------+-------------+----------------+----------------+------------+-------------------+----------+---------+---------+--------+-------+\n",
            "|       1|          6|Reginaldo Rossi|           5|    Maria Braga|         1|   Salvador|          4|         Monitor|        4|          IBM|               1|     Informática|           4|   Casa e Decoração|2021-05-10|        1|   1300.0|    1033| 202105|\n",
            "|       2|          5|  Edson Arantes|           3|Issac Palmeiras|         1|   Salvador|         10|        Papel A4|        8|FABER CASTELL|               3|       Papelaria|           3|  Eletro Eletrônico|2023-06-22|        1|     2.15|     812| 202306|\n",
            "|       3|          3|   Renato Russo|           5|    Maria Braga|         4|      Bagdá|         11|         Caneta |        8|FABER CASTELL|               3|       Papelaria|           1|         Tecnologia|2022-11-23|        2|      0.5|     447| 202211|\n",
            "|       4|          5|  Edson Arantes|           1|  Claudio Silva|         3|       Roma|         19|           Fogão|       13|     BRASTEMP|               6| Eletrodomestico|           2|papelaria/cosmético|2022-02-24|        1|   1500.0|     509| 202202|\n",
            "|       5|          6|Reginaldo Rossi|           9|   Diego Santos|         2|Nova Iorque|         16|         Perfume|       11|      PHILIPS|               4|       cosmético|           4|   Casa e Decoração|2023-04-27|        1|    135.0|    1337| 202304|\n",
            "|       6|          1|   João do Pulo|          11| Filipe Almeida|         3|       Roma|         11|         Caneta |        8|FABER CASTELL|               3|       Papelaria|           3|  Eletro Eletrônico|2022-04-20|        1|      0.5|    1337| 202204|\n",
            "|       7|          5|  Edson Arantes|           6|Rodrigo Machado|         4|      Bagdá|          9|    Celular  8GB|        8|FABER CASTELL|               2|       Telefonia|           4|   Casa e Decoração|2022-11-16|        1|    12.25|     724| 202211|\n",
            "|       8|          5|  Edson Arantes|           3|Issac Palmeiras|         3|       Roma|         19|           Fogão|       13|     BRASTEMP|               6| Eletrodomestico|           3|  Eletro Eletrônico|2021-11-06|        2|   1500.0|     375| 202111|\n",
            "|       9|          6|Reginaldo Rossi|          12|Marilia Cardoso|         2|Nova Iorque|         20|       Geladeira|       12|    ELETROLUX|               6| Eletrodomestico|           1|         Tecnologia|2021-02-09|        2|    350.0|     416| 202102|\n",
            "|      10|          6|Reginaldo Rossi|           9|   Diego Santos|         1|   Salvador|         15|           Baton|       10|    BOTICARIO|               4|       cosmético|           2|papelaria/cosmético|2023-12-13|        1|     98.5|    1085| 202312|\n",
            "|      11|          6|Reginaldo Rossi|           2| Márcio Barroso|         5|  Budapeste|         16|         Perfume|       11|      PHILIPS|               4|       cosmético|           3|  Eletro Eletrônico|2021-10-15|        1|    135.0|     692| 202110|\n",
            "|      12|          4|      Tom Jobim|           1|  Claudio Silva|         3|       Roma|         18|           Xbox |       12|    ELETROLUX|               5|      Eletrónico|           4|   Casa e Decoração|2022-05-31|        3|    850.0|      74| 202205|\n",
            "|      13|          6|Reginaldo Rossi|           6|Rodrigo Machado|         3|       Roma|          9|    Celular  8GB|        8|FABER CASTELL|               2|       Telefonia|           1|         Tecnologia|2021-07-28|        3|    12.25|     797| 202107|\n",
            "|      14|          2|Benito de Paula|           2| Márcio Barroso|         4|      Bagdá|         18|           Xbox |       12|    ELETROLUX|               5|      Eletrónico|           2|papelaria/cosmético|2023-09-05|        3|    850.0|     391| 202309|\n",
            "|      15|          6|Reginaldo Rossi|          12|Marilia Cardoso|         3|       Roma|          8|Telefone Sem Fio|        5|      SAMSUNG|               2|       Telefonia|           3|  Eletro Eletrônico|2021-12-22|        1|    875.0|     700| 202112|\n",
            "|      16|          3|   Renato Russo|          11| Filipe Almeida|         3|       Roma|         15|           Baton|       10|    BOTICARIO|               4|       cosmético|           3|  Eletro Eletrônico|2023-02-24|        3|     98.5|     241| 202302|\n",
            "|      17|          6|Reginaldo Rossi|           5|    Maria Braga|         4|      Bagdá|         21|      microondas|       14|      DA CASA|               6| Eletrodomestico|           2|papelaria/cosmético|2023-03-16|        3|   2100.0|     403| 202303|\n",
            "|      18|          2|Benito de Paula|          11| Filipe Almeida|         4|      Bagdá|          8|Telefone Sem Fio|        5|      SAMSUNG|               2|       Telefonia|           2|papelaria/cosmético|2021-03-07|        2|    875.0|    1427| 202103|\n",
            "|      19|          6|Reginaldo Rossi|           6|Rodrigo Machado|         4|      Bagdá|          7|     Celular 4Gb|        5|      SAMSUNG|               2|       Telefonia|           1|         Tecnologia|2021-04-01|        1|     52.9|     210| 202104|\n",
            "|      20|          4|      Tom Jobim|           3|Issac Palmeiras|         1|   Salvador|         14|   Classificador|        9|         AVON|               3|       Papelaria|           2|papelaria/cosmético|2023-07-29|        2|     25.0|     849| 202307|\n",
            "+--------+-----------+---------------+------------+---------------+----------+-----------+-----------+----------------+---------+-------------+----------------+----------------+------------+-------------------+----------+---------+---------+--------+-------+\n",
            "only showing top 20 rows\n",
            "\n"
          ]
        }
      ]
    },
    {
      "cell_type": "code",
      "source": [
        "# Tabela temporaria de teste para verificar quantidade de monitores no ano_mes específico]\n",
        "\n",
        "df_budapeste_monitor_202310 = df.filter(\n",
        "    (df[\"nom_cidade\"] == \"Budapeste\") &\n",
        "    (df[\"Nom_produto\"] == \"Monitor\") &\n",
        "    (df[\"Ano-mês\"] == \"202310\")\n",
        ")\n",
        "\n",
        "df_budapeste_monitor_202310.show()"
      ],
      "metadata": {
        "colab": {
          "base_uri": "https://localhost:8080/"
        },
        "id": "y1Mc5roa_nua",
        "outputId": "bf0105be-0087-4077-ae62-6becf4a64c30"
      },
      "execution_count": 7,
      "outputs": [
        {
          "output_type": "stream",
          "name": "stdout",
          "text": [
            "+--------+-----------+---------------+------------+---------------+----------+----------+-----------+-----------+---------+---------+----------------+----------------+------------+-------------------+----------+---------+---------+--------+-------+\n",
            "|id_venda|cod_cliente|    nom_cliente|cod_vendedor|   nom_vendedor|cod_cidade|nom_cidade|cod_produto|Nom_produto|cod_marca|Nom_marca|cod_departamento|nom_departamento|cod_gerencia|       nom_gerencia| dtc_venda|qtd_venda|val_venda|num_nota|Ano-mês|\n",
            "+--------+-----------+---------------+------------+---------------+----------+----------+-----------+-----------+---------+---------+----------------+----------------+------------+-------------------+----------+---------+---------+--------+-------+\n",
            "|      83|          4|      Tom Jobim|          11| Filipe Almeida|         5| Budapeste|          4|    Monitor|        4|      IBM|               1|     Informática|           4|   Casa e Decoração|2023-10-08|        3|   1300.0|     623| 202310|\n",
            "|    2556|          3|   Renato Russo|          12|Marilia Cardoso|         5| Budapeste|          4|    Monitor|        4|      IBM|               1|     Informática|           2|papelaria/cosmético|2023-10-06|        2|   1300.0|     434| 202310|\n",
            "|    2643|          2|Benito de Paula|           5|    Maria Braga|         5| Budapeste|          4|    Monitor|        4|      IBM|               1|     Informática|           4|   Casa e Decoração|2023-10-05|        3|   1300.0|     944| 202310|\n",
            "|    6865|          4|      Tom Jobim|           9|   Diego Santos|         5| Budapeste|          4|    Monitor|        4|      IBM|               1|     Informática|           3|  Eletro Eletrônico|2023-10-22|        3|   1300.0|    1089| 202310|\n",
            "+--------+-----------+---------------+------------+---------------+----------+----------+-----------+-----------+---------+---------+----------------+----------------+------------+-------------------+----------+---------+---------+--------+-------+\n",
            "\n"
          ]
        }
      ]
    },
    {
      "source": [
        "df_consilidado_com_qtd = df.groupBy(\"Ano-mês\", \"nom_cidade\", \"Nom_produto\") \\\n",
        "    .agg(_sum(\"qtd_venda\").alias(\"SOMA_QTD_VENDAS\"))\n",
        "\n",
        "df_consilidado_com_qtd.show()"
      ],
      "cell_type": "code",
      "metadata": {
        "colab": {
          "base_uri": "https://localhost:8080/"
        },
        "id": "6O4UJaAc_NGE",
        "outputId": "e124a28e-5852-4775-9a8d-bd3112535619"
      },
      "execution_count": 8,
      "outputs": [
        {
          "output_type": "stream",
          "name": "stdout",
          "text": [
            "+-------+-----------+--------------------+---------------+\n",
            "|Ano-mês| nom_cidade|         Nom_produto|SOMA_QTD_VENDAS|\n",
            "+-------+-----------+--------------------+---------------+\n",
            "| 202111|Nova Iorque|                Sofá|              4|\n",
            "| 202211|       Roma|            Papel A4|              5|\n",
            "| 202210|  Budapeste|Aparalho de Barbe...|              8|\n",
            "| 202202|   Salvador|             Caneta |              4|\n",
            "| 202206|   Salvador|            Borracha|              5|\n",
            "| 202107|   Salvador|          microondas|              7|\n",
            "| 202309|   Salvador|               Mouse|              5|\n",
            "| 202209|      Bagdá|           Geladeira|              2|\n",
            "| 202108|Nova Iorque|           Geladeira|              5|\n",
            "| 202304|  Budapeste|            Papel A4|              7|\n",
            "| 202209|   Salvador|         Celular 4Gb|              5|\n",
            "| 202311|  Budapeste|            Borracha|             10|\n",
            "| 202204|   Salvador|                Mesa|              9|\n",
            "| 202210|  Budapeste|           Geladeira|              1|\n",
            "| 202206|  Budapeste|             Teclado|             10|\n",
            "| 202109|   Salvador|          Computador|              9|\n",
            "| 202304|Nova Iorque|             Monitor|              7|\n",
            "| 202108|   Salvador|          microondas|              3|\n",
            "| 202204|       Roma|               Baton|              3|\n",
            "| 202106|      Bagdá|               Mouse|              2|\n",
            "+-------+-----------+--------------------+---------------+\n",
            "only showing top 20 rows\n",
            "\n"
          ]
        }
      ]
    },
    {
      "source": [
        "df_monitor_budapeste_202310 = df_consilidado_com_qtd.filter(\n",
        "    (df_consilidado_com_qtd[\"Ano-mês\"] == \"202310\") &\n",
        "    (df_consilidado_com_qtd[\"nom_cidade\"] == \"Budapeste\") &\n",
        "    (df_consilidado_com_qtd[\"Nom_produto\"] == \"Monitor\")\n",
        ")\n",
        "\n",
        "df_monitor_budapeste_202310.show()"
      ],
      "cell_type": "code",
      "metadata": {
        "colab": {
          "base_uri": "https://localhost:8080/"
        },
        "id": "Zt4FAsBI_dXk",
        "outputId": "34ae9ec2-1390-4747-b4af-d7a21c44da95"
      },
      "execution_count": 9,
      "outputs": [
        {
          "output_type": "stream",
          "name": "stdout",
          "text": [
            "+-------+----------+-----------+---------------+\n",
            "|Ano-mês|nom_cidade|Nom_produto|SOMA_QTD_VENDAS|\n",
            "+-------+----------+-----------+---------------+\n",
            "| 202310| Budapeste|    Monitor|             11|\n",
            "+-------+----------+-----------+---------------+\n",
            "\n"
          ]
        }
      ]
    },
    {
      "cell_type": "code",
      "source": [
        "df_consilidado_com_qtd.write.mode(\"overwrite\").parquet(\"/content/consilidado_com_qtd_parquet\")\n"
      ],
      "metadata": {
        "id": "u0GbXRlLB3B7"
      },
      "execution_count": 10,
      "outputs": []
    }
  ]
}