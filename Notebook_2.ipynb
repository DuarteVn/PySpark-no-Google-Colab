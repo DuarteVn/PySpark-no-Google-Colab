{
  "nbformat": 4,
  "nbformat_minor": 0,
  "metadata": {
    "colab": {
      "provenance": [],
      "collapsed_sections": [
        "lK3YxBCrW9Ra",
        "SPVfdGPLgUZE",
        "nU4vSzMkokga",
        "KmSvQMBfKkbW",
        "IwijEF-FKqHI",
        "TihVhIBOX5mP",
        "rAVXDJluZTzQ",
        "UIiWN-BEZbFw",
        "nkABf-yuZpH3"
      ],
      "authorship_tag": "ABX9TyMesdlWuPr0TF7M1nY/+4mK",
      "include_colab_link": true
    },
    "kernelspec": {
      "name": "python3",
      "display_name": "Python 3"
    },
    "language_info": {
      "name": "python"
    }
  },
  "cells": [
    {
      "cell_type": "markdown",
      "metadata": {
        "id": "view-in-github",
        "colab_type": "text"
      },
      "source": [
        "<a href=\"https://colab.research.google.com/github/DuarteVn/PySpark-no-Google-Colab/blob/main/Notebook_2.ipynb\" target=\"_parent\"><img src=\"https://colab.research.google.com/assets/colab-badge.svg\" alt=\"Open In Colab\"/></a>"
      ]
    },
    {
      "cell_type": "markdown",
      "source": [
        "# Etapa 1: Configurar PySpark e integração com MySQL"
      ],
      "metadata": {
        "id": "CAjHwAKsxTRy"
      }
    },
    {
      "cell_type": "code",
      "execution_count": 1,
      "metadata": {
        "colab": {
          "base_uri": "https://localhost:8080/"
        },
        "id": "Kv-ZXJs5mTBS",
        "outputId": "b42d7058-9ba8-45d3-a2ac-cd7846cb741e"
      },
      "outputs": [
        {
          "output_type": "stream",
          "name": "stdout",
          "text": [
            "Mounted at /content/drive\n"
          ]
        }
      ],
      "source": [
        "from google.colab import drive\n",
        "drive.mount('/content/drive')\n",
        "from pyspark.sql import SparkSession\n",
        "from pyspark.sql.functions import col, upper, when"
      ]
    },
    {
      "cell_type": "code",
      "source": [
        "# Baixar o .jar correto do driver JDBC (MySQL Connector 8.0.33)\n",
        "!wget https://repo1.maven.org/maven2/com/mysql/mysql-connector-j/8.0.33/mysql-connector-j-8.0.33.jar\n",
        "\n",
        "# Copiar para o diretório do Spark\n",
        "!cp mysql-connector-j-8.0.33.jar /usr/local/lib/python3.*/dist-packages/pyspark/jars/\n"
      ],
      "metadata": {
        "colab": {
          "base_uri": "https://localhost:8080/"
        },
        "id": "I0O5wKcGJ-ld",
        "outputId": "f775c9ad-5d6e-4294-98c2-4e91c30fef16"
      },
      "execution_count": 2,
      "outputs": [
        {
          "output_type": "stream",
          "name": "stdout",
          "text": [
            "--2025-05-20 13:41:22--  https://repo1.maven.org/maven2/com/mysql/mysql-connector-j/8.0.33/mysql-connector-j-8.0.33.jar\n",
            "Resolving repo1.maven.org (repo1.maven.org)... 199.232.192.209, 199.232.196.209, 2a04:4e42:4c::209, ...\n",
            "Connecting to repo1.maven.org (repo1.maven.org)|199.232.192.209|:443... connected.\n",
            "HTTP request sent, awaiting response... 200 OK\n",
            "Length: 2481560 (2.4M) [application/java-archive]\n",
            "Saving to: ‘mysql-connector-j-8.0.33.jar’\n",
            "\n",
            "\r          mysql-con   0%[                    ]       0  --.-KB/s               \rmysql-connector-j-8 100%[===================>]   2.37M  --.-KB/s    in 0.08s   \n",
            "\n",
            "2025-05-20 13:41:22 (29.7 MB/s) - ‘mysql-connector-j-8.0.33.jar’ saved [2481560/2481560]\n",
            "\n"
          ]
        }
      ]
    },
    {
      "cell_type": "code",
      "source": [
        "spark = SparkSession.builder.appName(\"Notebook2\").getOrCreate()\n",
        "\n",
        "#Estabelecer conexão com Banco de Dados MySQL no Google Cloud Plataform\n",
        "url = \"jdbc:mysql://35.198.51.193:3306/senai?useSSL=false&serverTimezone=UTC&zeroDateTimeBehavior=CONVERT_TO_NULL\"\n",
        "properties = {\n",
        "    \"user\": \"senai\",\n",
        "    \"password\": \"senai123\",\n",
        "    \"driver\": \"com.mysql.cj.jdbc.Driver\"\n",
        "}\n",
        "\n"
      ],
      "metadata": {
        "id": "t76yjXJCfip4"
      },
      "execution_count": 4,
      "outputs": []
    },
    {
      "cell_type": "markdown",
      "source": [
        "## 1.1 Ler base de dados no Google Cloud Plataform"
      ],
      "metadata": {
        "id": "lK3YxBCrW9Ra"
      }
    },
    {
      "cell_type": "code",
      "source": [
        "df_teste = spark.read.jdbc(\n",
        "    url=url,\n",
        "    table=\"(SELECT * FROM arquivo_nota LIMIT 10) AS nota\",\n",
        "    properties=properties\n",
        ")\n",
        "\n",
        "df_teste.show(5)"
      ],
      "metadata": {
        "colab": {
          "base_uri": "https://localhost:8080/"
        },
        "id": "FOVJ6wlNF0k2",
        "outputId": "aaaab57b-f832-4e75-89b0-b7bea2506b26"
      },
      "execution_count": 19,
      "outputs": [
        {
          "output_type": "stream",
          "name": "stdout",
          "text": [
            "+--------+-----------+---------------+------------+---------------+----------+-----------+-----------+-----------+---------+-------------+----------------+----------------+------------+-------------------+----------+---------+---------+--------+\n",
            "|id_venda|cod_cliente|    nom_cliente|cod_vendedor|   nom_vendedor|cod_cidade| nom_cidade|cod_produto|nom_produto|cod_marca|    nom_marca|cod_departamento|nom_departamento|cod_gerencia|       nom_gerencia| dtc_venda|qtd_venda|val_venda|num_nota|\n",
            "+--------+-----------+---------------+------------+---------------+----------+-----------+-----------+-----------+---------+-------------+----------------+----------------+------------+-------------------+----------+---------+---------+--------+\n",
            "|       1|          6|Reginaldo Rossi|           5|    Maria Braga|         1|   Salvador|          4|    Monitor|        4|          IBM|               1|     Informática|           4|   Casa e Decoração|2021-05-10|        1|  1300.00|    1033|\n",
            "|       2|          5|  Edson Arantes|           3|Issac Palmeiras|         1|   Salvador|         10|   Papel A4|        8|FABER CASTELL|               3|       Papelaria|           3|  Eletro Eletrônico|2023-06-22|        1|     2.15|     812|\n",
            "|       3|          3|   Renato Russo|           5|    Maria Braga|         4|      Bagdá|         11|    Caneta |        8|FABER CASTELL|               3|       Papelaria|           1|         Tecnologia|2022-11-23|        2|     0.50|     447|\n",
            "|       4|          5|  Edson Arantes|           1|  Claudio Silva|         3|       Roma|         19|      Fogão|       13|     BRASTEMP|               6| Eletrodomestico|           2|papelaria/cosmético|2022-02-24|        1|  1500.00|     509|\n",
            "|       5|          6|Reginaldo Rossi|           9|   Diego Santos|         2|Nova Iorque|         16|    Perfume|       11|      PHILIPS|               4|       cosmético|           4|   Casa e Decoração|2023-04-27|        1|   135.00|    1337|\n",
            "+--------+-----------+---------------+------------+---------------+----------+-----------+-----------+-----------+---------+-------------+----------------+----------------+------------+-------------------+----------+---------+---------+--------+\n",
            "only showing top 5 rows\n",
            "\n"
          ]
        }
      ]
    },
    {
      "cell_type": "markdown",
      "source": [
        "# Etapa 2: Importar base de dados"
      ],
      "metadata": {
        "id": "h9aMVHKKxVej"
      }
    },
    {
      "cell_type": "markdown",
      "source": [
        "## 2.1 Ler base de dados original (notafiscal.csv)"
      ],
      "metadata": {
        "id": "xI0rwGFHgKqv"
      }
    },
    {
      "cell_type": "code",
      "source": [
        "df = spark.read.csv(\"/content/drive/MyDrive/Colab Notebooks/Excel/notafiscal.csv\", header=True, inferSchema=True, sep=',')\n",
        "df.printSchema()\n",
        "df.show(5)"
      ],
      "metadata": {
        "colab": {
          "base_uri": "https://localhost:8080/"
        },
        "id": "h6qSb_ySoSNC",
        "outputId": "240c5600-e08c-4af3-da8e-ca140f5f808b"
      },
      "execution_count": 5,
      "outputs": [
        {
          "output_type": "stream",
          "name": "stdout",
          "text": [
            "root\n",
            " |-- id_venda: integer (nullable = true)\n",
            " |-- cod_cliente: integer (nullable = true)\n",
            " |-- nom_cliente: string (nullable = true)\n",
            " |-- cod_vendedor: integer (nullable = true)\n",
            " |-- nom_vendedor: string (nullable = true)\n",
            " |-- cod_cidade: integer (nullable = true)\n",
            " |-- nom_cidade: string (nullable = true)\n",
            " |-- cod_produto: integer (nullable = true)\n",
            " |-- Nom_produto: string (nullable = true)\n",
            " |-- cod_marca: integer (nullable = true)\n",
            " |-- Nom_marca: string (nullable = true)\n",
            " |-- cod_departamento: integer (nullable = true)\n",
            " |-- nom_departamento: string (nullable = true)\n",
            " |-- cod_gerencia: integer (nullable = true)\n",
            " |-- nom_gerencia: string (nullable = true)\n",
            " |-- dtc_venda: date (nullable = true)\n",
            " |-- qtd_venda: integer (nullable = true)\n",
            " |-- val_venda: double (nullable = true)\n",
            " |-- num_nota: integer (nullable = true)\n",
            "\n",
            "+--------+-----------+---------------+------------+---------------+----------+-----------+-----------+-----------+---------+-------------+----------------+----------------+------------+-------------------+----------+---------+---------+--------+\n",
            "|id_venda|cod_cliente|    nom_cliente|cod_vendedor|   nom_vendedor|cod_cidade| nom_cidade|cod_produto|Nom_produto|cod_marca|    Nom_marca|cod_departamento|nom_departamento|cod_gerencia|       nom_gerencia| dtc_venda|qtd_venda|val_venda|num_nota|\n",
            "+--------+-----------+---------------+------------+---------------+----------+-----------+-----------+-----------+---------+-------------+----------------+----------------+------------+-------------------+----------+---------+---------+--------+\n",
            "|       1|          6|Reginaldo Rossi|           5|    Maria Braga|         1|   Salvador|          4|    Monitor|        4|          IBM|               1|     Informática|           4|   Casa e Decoração|2021-05-10|        1|   1300.0|    1033|\n",
            "|       2|          5|  Edson Arantes|           3|Issac Palmeiras|         1|   Salvador|         10|   Papel A4|        8|FABER CASTELL|               3|       Papelaria|           3|  Eletro Eletrônico|2023-06-22|        1|     2.15|     812|\n",
            "|       3|          3|   Renato Russo|           5|    Maria Braga|         4|      Bagdá|         11|    Caneta |        8|FABER CASTELL|               3|       Papelaria|           1|         Tecnologia|2022-11-23|        2|      0.5|     447|\n",
            "|       4|          5|  Edson Arantes|           1|  Claudio Silva|         3|       Roma|         19|      Fogão|       13|     BRASTEMP|               6| Eletrodomestico|           2|papelaria/cosmético|2022-02-24|        1|   1500.0|     509|\n",
            "|       5|          6|Reginaldo Rossi|           9|   Diego Santos|         2|Nova Iorque|         16|    Perfume|       11|      PHILIPS|               4|       cosmético|           4|   Casa e Decoração|2023-04-27|        1|    135.0|    1337|\n",
            "+--------+-----------+---------------+------------+---------------+----------+-----------+-----------+-----------+---------+-------------+----------------+----------------+------------+-------------------+----------+---------+---------+--------+\n",
            "only showing top 5 rows\n",
            "\n"
          ]
        }
      ]
    },
    {
      "cell_type": "markdown",
      "source": [
        "## 2.2 Ler CSV de DEPARTAMENTO do Notebook 1"
      ],
      "metadata": {
        "id": "SPVfdGPLgUZE"
      }
    },
    {
      "cell_type": "code",
      "source": [
        "df_departamento = spark.read.csv(\"/content/drive/MyDrive/Colab Notebooks/Excel/departamento.csv\", header=True, inferSchema=True)\n",
        "df_departamento.printSchema()\n",
        "df_departamento.show(5)"
      ],
      "metadata": {
        "colab": {
          "base_uri": "https://localhost:8080/"
        },
        "id": "oxQYCZjvgnXY",
        "outputId": "7f2fc747-d6e0-4d85-d89b-a30b0ed76386"
      },
      "execution_count": 6,
      "outputs": [
        {
          "output_type": "stream",
          "name": "stdout",
          "text": [
            "root\n",
            " |-- ID_DEPARTAMENTO: integer (nullable = true)\n",
            " |-- NOME_DEPARTAMENTO: string (nullable = true)\n",
            "\n",
            "+---------------+-----------------+\n",
            "|ID_DEPARTAMENTO|NOME_DEPARTAMENTO|\n",
            "+---------------+-----------------+\n",
            "|              3|        PAPELARIA|\n",
            "|              6|  ELETRODOMESTICO|\n",
            "|              5|       ELETRÓNICO|\n",
            "|              1|      INFORMÁTICA|\n",
            "|              7|           MOVÉIS|\n",
            "+---------------+-----------------+\n",
            "only showing top 5 rows\n",
            "\n"
          ]
        }
      ]
    },
    {
      "cell_type": "markdown",
      "source": [
        "# Etapa 3: Criar DataFrame de PRODUTO"
      ],
      "metadata": {
        "id": "nU4vSzMkokga"
      }
    },
    {
      "cell_type": "code",
      "source": [
        "df_produto = df.select(\n",
        "    \"cod_produto\",\n",
        "    \"Nom_produto\",\n",
        "    \"cod_departamento\"\n",
        ").dropDuplicates()\n",
        "\n",
        "df_produto.show(5)"
      ],
      "metadata": {
        "colab": {
          "base_uri": "https://localhost:8080/"
        },
        "id": "FVshbPTkopGT",
        "outputId": "67c0f81d-cdab-478d-ea8c-8facc4b88385"
      },
      "execution_count": 7,
      "outputs": [
        {
          "output_type": "stream",
          "name": "stdout",
          "text": [
            "+-----------+--------------------+----------------+\n",
            "|cod_produto|         Nom_produto|cod_departamento|\n",
            "+-----------+--------------------+----------------+\n",
            "|         13|              Estojo|               3|\n",
            "|          7|         Celular 4Gb|               2|\n",
            "|         17|Aparalho de Barbe...|               6|\n",
            "|          9|        Celular  8GB|               2|\n",
            "|          6|           Notebook |               1|\n",
            "+-----------+--------------------+----------------+\n",
            "only showing top 5 rows\n",
            "\n"
          ]
        }
      ]
    },
    {
      "cell_type": "markdown",
      "source": [
        "# Etapa 4: JOIN com Departamento"
      ],
      "metadata": {
        "id": "K1SqMDVepW3J"
      }
    },
    {
      "cell_type": "markdown",
      "source": [
        "## 4.1 Cria tabela departamento no Google Colab Plataform"
      ],
      "metadata": {
        "id": "KmSvQMBfKkbW"
      }
    },
    {
      "cell_type": "code",
      "source": [
        "df_departamento.write.jdbc(\n",
        "    url=url,\n",
        "    table=\"departamento\",\n",
        "    mode=\"overwrite\",\n",
        "    properties=properties\n",
        ")\n"
      ],
      "metadata": {
        "id": "RBmKo0i2A93r"
      },
      "execution_count": 9,
      "outputs": []
    },
    {
      "cell_type": "markdown",
      "source": [
        "## 4.2 Cria tabela produto no GCP Google Colab Plataform\n",
        "\n"
      ],
      "metadata": {
        "id": "IwijEF-FKqHI"
      }
    },
    {
      "cell_type": "code",
      "source": [
        "df_produto.write.jdbc(\n",
        "    url=url,\n",
        "    table=\"produto\",\n",
        "    mode=\"overwrite\",\n",
        "    properties=properties\n",
        ")"
      ],
      "metadata": {
        "id": "8CjF6OvBKt2r"
      },
      "execution_count": 14,
      "outputs": []
    },
    {
      "cell_type": "markdown",
      "source": [
        "## 4.3 Realiza o JOIN diretamente no banco com as duas tabelas criadas"
      ],
      "metadata": {
        "id": "TihVhIBOX5mP"
      }
    },
    {
      "cell_type": "code",
      "source": [
        "df_join = spark.read.jdbc(\n",
        "    url=url,\n",
        "    table=\"\"\"\n",
        "        (\n",
        "        SELECT\n",
        "            DISTINCT p.cod_produto, p.Nom_produto, p.cod_departamento, d.NOME_DEPARTAMENTO\n",
        "        FROM\n",
        "            produto p\n",
        "        INNER JOIN\n",
        "            departamento d\n",
        "        ON\n",
        "            p.cod_departamento = d.ID_DEPARTAMENTO\n",
        "        ) AS join_produto\n",
        "    \"\"\",\n",
        "    properties=properties\n",
        ")\n",
        "\n",
        "df_join.show()"
      ],
      "metadata": {
        "colab": {
          "base_uri": "https://localhost:8080/"
        },
        "id": "3q_bq3PXGFf0",
        "outputId": "e93d08bd-6cd3-4de3-98e4-18cd0c87f361"
      },
      "execution_count": 15,
      "outputs": [
        {
          "output_type": "stream",
          "name": "stdout",
          "text": [
            "+-----------+--------------------+----------------+-----------------+\n",
            "|cod_produto|         Nom_produto|cod_departamento|NOME_DEPARTAMENTO|\n",
            "+-----------+--------------------+----------------+-----------------+\n",
            "|         13|              Estojo|               3|        PAPELARIA|\n",
            "|          7|         Celular 4Gb|               2|        TELEFONIA|\n",
            "|         17|Aparalho de Barbe...|               6|  ELETRODOMESTICO|\n",
            "|          9|        Celular  8GB|               2|        TELEFONIA|\n",
            "|          6|           Notebook |               1|      INFORMÁTICA|\n",
            "|          8|    Telefone Sem Fio|               2|        TELEFONIA|\n",
            "|          5|          Computador|               1|      INFORMÁTICA|\n",
            "|         16|             Perfume|               4|        COSMÉTICO|\n",
            "|          4|             Monitor|               1|      INFORMÁTICA|\n",
            "|         19|               Fogão|               6|  ELETRODOMESTICO|\n",
            "|         14|       Classificador|               3|        PAPELARIA|\n",
            "|         15|               Baton|               4|        COSMÉTICO|\n",
            "|          2|               Mouse|               1|      INFORMÁTICA|\n",
            "|         18|               Xbox |               5|       ELETRÓNICO|\n",
            "|         10|            Papel A4|               3|        PAPELARIA|\n",
            "|         23|                Sofá|               7|           MOVÉIS|\n",
            "|         20|           Geladeira|               6|  ELETRODOMESTICO|\n",
            "|         21|          microondas|               6|  ELETRODOMESTICO|\n",
            "|          3|             Teclado|               1|      INFORMÁTICA|\n",
            "|         11|             Caneta |               3|        PAPELARIA|\n",
            "+-----------+--------------------+----------------+-----------------+\n",
            "only showing top 20 rows\n",
            "\n"
          ]
        }
      ]
    },
    {
      "cell_type": "markdown",
      "source": [
        "# Etapa 5: Corrigir nome do produto"
      ],
      "metadata": {
        "id": "PBccAbpwr0Aw"
      }
    },
    {
      "cell_type": "markdown",
      "source": [
        "## 5.1 Corrige no Spark o nome"
      ],
      "metadata": {
        "id": "rAVXDJluZTzQ"
      }
    },
    {
      "cell_type": "code",
      "source": [
        "df_produto = df_produto.withColumn(\n",
        "    \"Nom_produto\",\n",
        "    when(df_produto[\"Nom_produto\"] == \"Aparalho de Barbear Elétrico\", \"Barbeador Elétrico\").otherwise(df_produto[\"Nom_produto\"])\n",
        ")\n",
        "\n",
        "df_produto.show(5)"
      ],
      "metadata": {
        "colab": {
          "base_uri": "https://localhost:8080/"
        },
        "id": "4eDwG12br5gW",
        "outputId": "ef5fe379-b721-46ac-d3a5-bd01aed2f3de"
      },
      "execution_count": 16,
      "outputs": [
        {
          "output_type": "stream",
          "name": "stdout",
          "text": [
            "+-----------+------------------+----------------+\n",
            "|cod_produto|       Nom_produto|cod_departamento|\n",
            "+-----------+------------------+----------------+\n",
            "|         13|            Estojo|               3|\n",
            "|          7|       Celular 4Gb|               2|\n",
            "|         17|Barbeador Elétrico|               6|\n",
            "|          9|      Celular  8GB|               2|\n",
            "|          6|         Notebook |               1|\n",
            "+-----------+------------------+----------------+\n",
            "only showing top 5 rows\n",
            "\n"
          ]
        }
      ]
    },
    {
      "cell_type": "markdown",
      "source": [
        "## 5.2 Regrava a tabela de produto com o nome do produto novo"
      ],
      "metadata": {
        "id": "UIiWN-BEZbFw"
      }
    },
    {
      "cell_type": "code",
      "source": [
        "df_produto.write.jdbc(\n",
        "    url=url,\n",
        "    table=\"produto\",\n",
        "    mode=\"overwrite\",\n",
        "    properties=properties\n",
        ")"
      ],
      "metadata": {
        "id": "dlKDgpcoQQwN"
      },
      "execution_count": 17,
      "outputs": []
    },
    {
      "cell_type": "markdown",
      "source": [
        "## 5.3 Verifica o nome do produto atualizado no bando"
      ],
      "metadata": {
        "id": "nkABf-yuZpH3"
      }
    },
    {
      "cell_type": "code",
      "source": [
        "df_filtrado  = spark.read.jdbc(\n",
        "    url=url,\n",
        "    table=\"\"\"\n",
        "        (SELECT * FROM produto\n",
        "         WHERE Nom_produto = 'Barbeador Elétrico') AS prod\n",
        "    \"\"\",\n",
        "    properties=properties\n",
        ")\n",
        "\n",
        "df_filtrado .show(5)"
      ],
      "metadata": {
        "colab": {
          "base_uri": "https://localhost:8080/"
        },
        "id": "hTBQz6eQZw_A",
        "outputId": "e4f73e02-6361-4d07-e7ec-9b90b6d0be2d"
      },
      "execution_count": 21,
      "outputs": [
        {
          "output_type": "stream",
          "name": "stdout",
          "text": [
            "+-----------+------------------+----------------+\n",
            "|cod_produto|       Nom_produto|cod_departamento|\n",
            "+-----------+------------------+----------------+\n",
            "|         17|Barbeador Elétrico|               6|\n",
            "+-----------+------------------+----------------+\n",
            "\n"
          ]
        }
      ]
    }
  ]
}